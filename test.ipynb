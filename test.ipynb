{
 "cells": [
  {
   "cell_type": "code",
   "execution_count": 1,
   "metadata": {},
   "outputs": [],
   "source": [
    "import pandas as pd\n",
    "url = \"https://cloud.culture.tw/frontsite/trans/SearchShowAction.do?method=doFindTypeJ&category=1\"\n",
    "df = pd.read_json(url).dropna()\n"
   ]
  },
  {
   "cell_type": "code",
   "execution_count": 2,
   "metadata": {},
   "outputs": [
    {
     "name": "stdout",
     "output_type": "stream",
     "text": [
      "['2021黃詩雅小提琴獨奏會-唯美的音符溫度', '全本音樂劇《貓》CATS', '2021正港雄有戲-嵬舞劇場舞蹈團《野獸的咆哮》', '為偏鄉醫療多走一里路音樂會', '淬鍊珍珠～2022年廖皎含20周年鋼琴獨奏會', '西灣號角', '慶祝第六十七屆航海節~情牽四十', '歌劇魔笛-【排灣傳奇】', '【德奧音樂風情畫－阿瑪迪斯的榮耀・莫札特音樂之夜】', '浪漫木笛之旅']\n"
     ]
    }
   ],
   "source": [
    "\n",
    "titles = df['title'].values.tolist()\n",
    "print(titles[0:10])"
   ]
  },
  {
   "cell_type": "code",
   "execution_count": 2,
   "metadata": {},
   "outputs": [
    {
     "name": "stdout",
     "output_type": "stream",
     "text": [
      "['https://ticket.com.tw/Application/UTK02/UTK0201_.aspx?PRODUCT_ID=N0TI7MGX', '', 'https://kham.com.tw/application/UTK02/UTK0201_00.aspx?PRODUCT_ID=N14PO9DW', 'https://www.opentix.life/program/1331221006681997317', 'https://www.opentix.life/program/1364491804291555331', 'https://www.opentix.life/program/1374253220870934528', 'https://www.opentix.life/program/1372430385137319938', 'https://www.opentix.life/program/1366052584099078147', 'https://www.opentix.life/program/1374308968084463620', 'https://www.opentix.life/program/1376528169286651909', 'https://www.opentix.life/program/1375330335349276677', 'https://www.opentix.life/program/1379736931635974149', 'https://www.opentix.life/program/1381874563428515845', 'https://kktix.com/events/perfectlol3d9-2/registrations/new', '', '', 'https://ticket.com.tw/Application/UTK02/UTK0201_.aspx?PRODUCT_ID=N1AW0S8H', 'https://www.opentix.life/program/1398180150577704962', '', '', 'https://ticket.com.tw/Application/UTK02/UTK0201_.aspx?PRODUCT_ID=N1KQJZGZ', 'https://www.opentix.life/program/1450658620660273154', '', 'https://www.opentix.life/program/1442307277858537474', 'https://www.opentix.life/program/1456184286503899138', 'https://www.opentix.life/program/1451041127684837380', 'https://ticket.com.tw/Application/UTK02/UTK0201_.aspx?PRODUCT_ID=N1M0SXMU', 'https://www.opentix.life/program/1462622405025124354', 'https://www.opentix.life/program/1450770923677466631', 'https://www.opentix.life/program/1451014800420311043', 'https://www.opentix.life/program/1459435189743824898', 'https://www.opentix.life/program/1461647576945012741', 'https://www.opentix.life/program/1458625809194876936', 'https://www.opentix.life/program/1461189665196032004', 'https://www.opentix.life/program/1461245703800893444', 'https://www.opentix.life/program/1461266316041248773', 'https://event.culture.tw/YATSEN/portal/Registration/C0103MAction?actId=10391', 'https://kktix.com/events/iof211224/registrations/new', 'https://www.opentix.life/program/1466661823082741765', 'https://www.opentix.life/program/1464149325241004040', 'https://www.opentix.life/event/1458714075306082307', 'https://www.opentix.life/event/1470218507137175555', 'https://www.opentix.life/program/1458408990868897795', 'https://www.opentix.life/program/1459439052565970947', 'https://www.opentix.life/program/1466318112871284738', 'https://www.opentix.life/program/1467755443601580036', 'https://www.opentix.life/program/1467785918056378370', 'https://www.opentix.life/program/1468211724150779906', 'https://www.opentix.life/program/1469585661010198531', 'https://www.opentix.life/program/1470243406295715845', 'https://www.opentix.life/program/1470354283070083077', 'https://www.opentix.life/program/1470726926713606149', 'https://ticket.com.tw/Application/UTK02/UTK0201_.aspx?PRODUCT_ID=N1MAWNYF', 'https://ticket.com.tw/Application/UTK02/UTK0201_.aspx?PRODUCT_ID=N1MO2DM9', 'https://www.opentix.life/program/1471775392273387524', 'https://www.opentix.life/program/1470600118444888068', 'https://www.opentix.life/program/1472743854011924482', 'https://www.opentix.life/program/1473545570116030470', 'https://www.opentix.life/program/1469654924844679169', 'https://www.opentix.life/program/1475027084010405893', 'https://www.opentix.life/program/1475403132424384514', 'https://www.opentix.life/program/1470206993091608581', 'https://www.opentix.life/program/1474223590582689796', 'https://www.opentix.life/program/1474265238812348420', 'https://www.opentix.life/program/1475410223103021060', 'https://www.opentix.life/program/1469202886096666628', 'https://www.opentix.life/program/1475643114446876675', 'https://ticket.com.tw/Application/UTK02/UTK0201_.aspx?PRODUCT_ID=N1ONWDVI', 'https://ticket.com.tw/Application/UTK02/UTK0201_.aspx?PRODUCT_ID=N1PCP3ID', 'https://www.opentix.life/program/1468511648713986052', 'https://event.culture.tw/NTSO/portal/Registration/C0103MAction?actId=20003', 'https://www.opentix.life/program/1474298576141369351', 'https://www.opentix.life/program/1476164584344924162', 'https://www.opentix.life/program/1478624888736120844', 'https://www.opentix.life/program/1477942083000954882', '', 'https://www.opentix.life/program/1472876861825826824', 'https://www.opentix.life/program/1478651320556257285', 'https://www.opentix.life/program/1477510498609328129', 'https://www.opentix.life/program/1476847910562787331', 'https://www.opentix.life/program/1479277320650108935', 'https://www.opentix.life/program/1476540329961156608', 'https://www.opentix.life/program/1477809817202515972', 'https://www.opentix.life/program/1478533296377049092', 'https://www.opentix.life/program/1478273481684606978', 'https://www.opentix.life/program/1478366839056302080', 'https://ticket.com.tw/Application/UTK02/UTK0201_.aspx?PRODUCT_ID=N1PW7IHL', '', 'https://www.opentix.life/', 'https://event.culture.tw/CKSMH/portal/Registration/C0103MAction?actId=20010', 'https://event.culture.tw/CKSMH/portal/Registration/C0103MAction?actId=20011', 'https://reurl.cc/Epz1oa', 'https://www.opentix.life/program/1469207548222361602', 'https://www.opentix.life/program/1480534301696643074', 'https://ticket.com.tw/Application/UTK02/UTK0201_.aspx?PRODUCT_ID=N1QB1KK6', 'https://www.opentix.life/program/1481564421596917764', 'https://www.opentix.life/program/1481934553326747652', '', 'https://www.opentix.life/program/1481937843336851461', 'https://www.opentix.life/program/1469527429878763529', 'https://www.opentix.life/program/1482165104750534660', 'https://www.opentix.life/program/1480493377436450821', 'https://www.opentix.life/program/1481804746876334085', 'https://www.opentix.life/program/1481846982780588037', 'https://www.opentix.life/program/1483082207619649538', 'https://www.opentix.life/program/1483689788864139269', 'https://ticket.com.tw/Application/UTK02/UTK0201_.aspx?PRODUCT_ID=N1QIN4S2', 'https://www.opentix.life/program/1481556069680689156', 'https://www.opentix.life/program/1481593977660321795', 'https://www.opentix.life/program/1481604695681413123', 'https://www.opentix.life/program/1481802823433388037', 'https://www.opentix.life/program/1481814732223819780', 'https://www.opentix.life/program/1481818968235978756', 'https://www.opentix.life/program/1481827756398018562', 'https://www.opentix.life/program/1481830024823640068', 'https://www.opentix.life/program/1481867209955385348', 'https://www.opentix.life/program/1481870845929263106', 'https://www.opentix.life/program/1471689178811846662', 'https://www.opentix.life/program/1478662893060280325', 'https://www.opentix.life/program/1483706981538533379', 'https://www.opentix.life/program/1484017261686493187', 'https://www.opentix.life/program/1480742434536333317', 'https://www.opentix.life/program/1481114649923235844', 'https://www.opentix.life/program/1483367489372475395', 'https://www.opentix.life/program/1483726948016365570', 'https://ticket.com.tw/Application/UTK02/UTK0201_.aspx?PRODUCT_ID=N1QN8VK5', 'https://ticket.com.tw/Application/UTK02/UTK0201_.aspx?PRODUCT_ID=N1QJ2OE7', 'https://www.opentix.life/program/1477972282459828228', 'https://www.opentix.life/program/1478193920434962437', 'https://www.opentix.life/program/1478334792711024645', 'https://www.opentix.life/program/1483379207293673474', 'https://www.opentix.life/program/1485517236673908741', 'https://www.opentix.life/program/1485524348827140102', 'https://www.opentix.life/program/1485541765959712774', 'https://ticket.com.tw/Application/UTK02/UTK0201_.aspx?PRODUCT_ID=N1OX118A', 'https://ticket.com.tw/Application/UTK02/UTK0201_.aspx?PRODUCT_ID=N1OX2XS5', 'https://www.opentix.life/program/1483354991860060164', 'https://www.opentix.life/program/1460126906306441218', 'https://www.opentix.life/program/1478252344824758277', 'https://www.opentix.life/program/1478650649660006405', 'https://www.opentix.life/program/1483992612654100481', 'https://www.opentix.life/program/1485541036936986626', 'https://www.opentix.life/', 'https://bit.ly/3Ie6pkN', 'https://www.opentix.life/program/1473232104491753473', 'https://www.opentix.life/program/1483371271284117506', 'https://www.opentix.life/program/1483691794725941251', '', '', '', '', 'https://www.opentix.life/program/1483343972257435652', 'https://www.opentix.life/program/1484456697464172546', 'https://www.opentix.life/program/1485866810323828741', 'https://ticket.com.tw/Application/UTK02/UTK0201_.aspx?PRODUCT_ID=N1Q3YK80', '', 'https://www.opentix.life/program/1484461506751418370', 'https://www.opentix.life/program/1485937974493741058', 'https://www.opentix.life/program/1483322701654839296', 'https://www.opentix.life/program/1483654425897414661', 'https://www.opentix.life/program/1483750583273598981', 'https://www.opentix.life/program/1486523187980566534', '', '', '', '', '', '', '', '', '', '', '', '', '', '', '', '', '', '', '', '', '', '', '', '', '', '', '', '', '', '', 'https://www.opentix.life/program/1484444318479233027', 'https://www.opentix.life/program/1484379659124645893', '', '', '', '', '', '', '', '', '', '', 'https://www.opentix.life/', 'https://www.opentix.life/program/1484374965836881923', 'https://www.opentix.life/program/1486525746812633090', '', '', 'https://www.opentix.life/event/1469317685792591874?openExternalBrowser=1', 'https://www.opentix.life/program/1478209986854703108', 'https://www.opentix.life/program/1480419337674219521', 'https://www.opentix.life/program/1480426331438919681', 'https://www.opentix.life/program/1480429154870550530', 'https://ticket.com.tw/Application/UTK02/UTK0201_.aspx?PRODUCT_ID=N1RSR11S', 'https://www.opentix.life/program/1485071954379579393', 'https://www.opentix.life/program/1486280001466339333', 'https://www.opentix.life/program/1486672563906887681', '', '', '', '', '', '', '', '', '', '', '', '', 'https://www.opentix.life/program/1483720340863123461', 'https://www.opentix.life/program/1486180247327674369', 'https://www.opentix.life/program/1490533804091662337', 'https://ticket.com.tw/Application/UTK02/UTK0201_.aspx?PRODUCT_ID=N1RXKDWJ', 'https://www.opentix.life/program/1491623849106423811', 'https://www.opentix.life/program/1486278054050992133', 'https://www.opentix.life/program/1487003373464653829', 'https://www.opentix.life/program/1487005089653833733', 'https://www.opentix.life/program/1490949307681665026', 'https://www.opentix.life/program/1490964827239804930', 'https://www.opentix.life/program/1491004226744807426', 'https://www.opentix.life/program/1491373572054773766', 'https://www.opentix.life/program/1484013135196000257', '', '', '', 'https://kktix.com/events/d318a10f/registrations/new', 'https://www.opentix.life/program/1482994600737845250', 'https://www.opentix.life/program/1482985095561793542', 'https://www.opentix.life/program/1486982880075087874', 'https://www.opentix.life/program/1490957570514030595', 'https://www.opentix.life/program/1490992722219655173', '', '', 'https://www.opentix.life/program/1474634719921295363', 'https://www.opentix.life/program/1483378201083187202', 'https://www.opentix.life/program/1485804037981241348', 'https://www.opentix.life/program/1489559499713626113', 'https://www.opentix.life/program/1491005428674879493', 'https://www.opentix.life/program/1493138209888878596', 'https://www.opentix.life/program/1490965079122272264', 'https://www.opentix.life/program/1493505866014060548', 'https://www.opentix.life/program/1490537923953377284', 'https://www.opentix.life/program/1491595971080290306', 'https://www.opentix.life/program/1493427716611399684', 'https://tixfun.com/UTK0201_?PRODUCT_ID=N1PF7TN8', 'https://tixfun.com/UTK0201_?PRODUCT_ID=N1QFV9C8', 'https://tixfun.com/UTK0201_?PRODUCT_ID=N1QS3KA2', 'https://www.opentix.life/program/1491613683250184192', 'https://ticket.com.tw/Application/UTK02/UTK0201_.aspx?PRODUCT_ID=N1SEZKS0', 'https://kktix.com/events/courage3/registrations/new', 'https://kktix.com/events/2022atsugar/registrations/quickly', 'https://www.opentix.life/program/1493883453456277509', 'https://www.opentix.life/program/1483395920986570754', 'https://www.opentix.life/program/1487348690722689026', 'https://www.opentix.life/program/1491968086578642946', 'https://www.opentix.life/event/1492089629190066178?openExternalBrowser=1', 'https://www.opentix.life/event/1456462234905878530', 'https://www.opentix.life/program/1493823821615665156', 'https://www.opentix.life/program/1493831116047192068', 'https://www.opentix.life/program/1478208789582381060', 'https://www.opentix.life/program/1493788120464420868', 'https://www.opentix.life/program/1493916550531051524', 'https://www.opentix.life/program/1494913178960326658', 'https://ticket.com.tw/Application/UTK02/UTK0201_.aspx?PRODUCT_ID=N1RX3IQJ', 'https://ticket.com.tw/Application/UTK02/UTK0201_.aspx?PRODUCT_ID=N1SORAGM', 'https://www.accupass.com/event/2202071214017753908750', 'https://kktix.com/events/aqmusictw/registrations/quickly', 'https://kktix.com/events/5i4a5-01aef/registrations/new', 'https://kktix.com/events/5i4a5-02bse/registrations/new', 'https://www.opentix.life/program/1492069878343745541', 'https://www.opentix.life/program/1493798985813127170', 'https://www.opentix.life/program/1495047777861042178', 'https://www.opentix.life/program/1495216983030169602', 'https://www.opentix.life/program/1495363945603031042', 'https://www.opentix.life/program/1496032884765159427', 'https://www.opentix.life/event/1496042988424065029', 'https://www.opentix.life/program/1493486214689144836', 'https://www.opentix.life/program/1495607114060857346', 'https://www.opentix.life/program/1495690093967110149', 'https://www.opentix.life/program/1496048705533198338', 'https://www.opentix.life/program/1496451999554101253', 'https://www.opentix.life/event/1474219128601300997?openExternalBrowser=1', 'https://kktix.com/events/12f17034/registrations/new']\n"
     ]
    }
   ],
   "source": [
    "cnweb = ['相關網站']\n",
    "dataweb = df['webSales'].values.tolist()\n",
    "print(dataweb)"
   ]
  },
  {
   "cell_type": "code",
   "execution_count": null,
   "metadata": {},
   "outputs": [],
   "source": []
  }
 ],
 "metadata": {
  "interpreter": {
   "hash": "d3031bf5902bcbdc1aa12c0b4e68ca0780b5916da5fda9fce4ecf89d9a40e224"
  },
  "kernelspec": {
   "display_name": "Python 3.9.7 ('base')",
   "language": "python",
   "name": "python3"
  },
  "language_info": {
   "codemirror_mode": {
    "name": "ipython",
    "version": 3
   },
   "file_extension": ".py",
   "mimetype": "text/x-python",
   "name": "python",
   "nbconvert_exporter": "python",
   "pygments_lexer": "ipython3",
   "version": "3.9.7"
  },
  "orig_nbformat": 4
 },
 "nbformat": 4,
 "nbformat_minor": 2
}
